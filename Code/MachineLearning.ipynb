{
 "cells": [
  {
   "cell_type": "code",
   "execution_count": 1,
   "id": "62a61bbb",
   "metadata": {},
   "outputs": [],
   "source": [
    "import pandas\n",
    "import numpy\n",
    "from sklearn.preprocessing import LabelEncoder\n",
    "from scipy.stats import zscore\n",
    "from sklearn.preprocessing import StandardScaler"
   ]
  },
  {
   "cell_type": "code",
   "execution_count": 2,
   "id": "00965bdd",
   "metadata": {},
   "outputs": [
    {
     "name": "stderr",
     "output_type": "stream",
     "text": [
      "C:\\Users\\Admin\\AppData\\Local\\Temp\\ipykernel_12988\\1204217597.py:1: DtypeWarning: Columns (1,3,4,5,6,7,8,9,10,11,12) have mixed types. Specify dtype option on import or set low_memory=False.\n",
      "  dataset = pandas.read_csv('../dataset/alb-rainfall-adm2-full.csv')\n"
     ]
    }
   ],
   "source": [
    "dataset = pandas.read_csv('../dataset/alb-rainfall-adm2-full.csv')"
   ]
  },
  {
   "cell_type": "code",
   "execution_count": 3,
   "id": "f903e20d",
   "metadata": {},
   "outputs": [
    {
     "name": "stdout",
     "output_type": "stream",
     "text": [
      "Categorical columns:  ['date', 'adm2_id', 'ADM2_PCODE', 'n_pixels', 'rfh', 'rfh_avg', 'r1h', 'r1h_avg', 'r3h', 'r3h_avg', 'rfq', 'r1q', 'r3q', 'version']\n",
      "Numerical columns:  []\n"
     ]
    }
   ],
   "source": [
    "categorical_columns = [column for column in dataset.columns if dataset[column].dtype=='object']\n",
    "print(\"Categorical columns: \",categorical_columns)\n",
    "\n",
    "numerical_columns = [column for column in dataset.columns if dataset[column].dtype!='object']\n",
    "print(\"Numerical columns: \",numerical_columns)\n"
   ]
  },
  {
   "cell_type": "code",
   "execution_count": 4,
   "id": "49591606",
   "metadata": {},
   "outputs": [],
   "source": [
    "numerical_columns = [\"n_pixels\", \"rfh\", \"rfh_avg\", \"r1h\", \"r1h_avg\", \"r3h\", \"r3h_avg\", \"rfq\", \"r1q\", \"r3q\"]\n",
    "for column in numerical_columns:\n",
    "    dataset[column] = pandas.to_numeric(dataset[column],errors='coerce')"
   ]
  },
  {
   "cell_type": "code",
   "execution_count": 5,
   "id": "2feb4b95",
   "metadata": {},
   "outputs": [
    {
     "name": "stdout",
     "output_type": "stream",
     "text": [
      "Numerical columns:  ['n_pixels', 'rfh', 'rfh_avg', 'r1h', 'r1h_avg', 'r3h', 'r3h_avg', 'rfq', 'r1q', 'r3q']\n",
      "Unique values in n_pixels:  [nan  2.  1.  3.  4.  6. 14.  5. 10.  9.  8.  7. 16. 11. 13.]\n",
      "Unique values in rfh:  [  nan  20.   73.5 ... 267.2 167.8 172.4]\n",
      "Unique values in rfh_avg:  [    nan 38.9167 31.6167 ... 57.6917 48.1917 41.5083]\n",
      "Unique values in r1h:  [  nan  99.5 118.5 ... 372.4 427.2 388.4]\n",
      "Unique values in r1h_avg:  [     nan 117.     121.7333 ... 137.5083 116.4833 109.425 ]\n",
      "Unique values in r3h:  [  nan 391.5 380.  ... 952.8 937.6 745.4]\n",
      "Unique values in r3h_avg:  [     nan 358.5667 354.2667 ... 375.4    339.1917 327.2   ]\n",
      "Unique values in rfq:  [     nan  56.926  214.3832 ... 143.547   79.0716  26.2977]\n",
      "Unique values in r1q:  [     nan  86.2205  97.5455 ... 116.6036 107.6119  74.9111]\n",
      "Unique values in r3q:  [     nan 108.9355 107.0644 ...  78.2117  70.5813  81.2792]\n"
     ]
    }
   ],
   "source": [
    "print(\"Numerical columns: \",numerical_columns)\n",
    "\n",
    "for column in numerical_columns:\n",
    "    print(f\"Unique values in {column}: \", dataset[column].unique())"
   ]
  },
  {
   "cell_type": "code",
   "execution_count": 6,
   "id": "abc0aff6",
   "metadata": {},
   "outputs": [],
   "source": [
    "dataset.replace({'?': None, 'missing': None, 'N/A': None}, inplace=True)"
   ]
  },
  {
   "cell_type": "code",
   "execution_count": 7,
   "id": "65ed25b1",
   "metadata": {},
   "outputs": [
    {
     "name": "stdout",
     "output_type": "stream",
     "text": [
      "Numerical columns:  ['n_pixels', 'rfh', 'rfh_avg', 'r1h', 'r1h_avg', 'r3h', 'r3h_avg', 'rfq', 'r1q', 'r3q']\n",
      "date             0\n",
      "adm2_id          0\n",
      "ADM2_PCODE       0\n",
      "n_pixels         1\n",
      "rfh              1\n",
      "rfh_avg          1\n",
      "r1h            703\n",
      "r1h_avg        703\n",
      "r3h           2809\n",
      "r3h_avg       2809\n",
      "rfq              1\n",
      "r1q            703\n",
      "r3q           2809\n",
      "version          0\n",
      "dtype: int64\n"
     ]
    }
   ],
   "source": [
    "numerical_columns = [col for col in dataset.columns if dataset[col].dtype in ['int64', 'float64']]\n",
    "print(\"Numerical columns: \", numerical_columns)\n",
    "print(dataset.isnull().sum())"
   ]
  },
  {
   "cell_type": "code",
   "execution_count": 8,
   "id": "5a088ef5",
   "metadata": {},
   "outputs": [],
   "source": [
    "dataset[['n_pixels', 'rfh', 'rfh_avg', 'rfq']] = dataset[['n_pixels', 'rfh', 'rfh_avg', 'rfq']].fillna(dataset[['n_pixels', 'rfh', 'rfh_avg', 'rfq']].median())\n",
    "dataset[['r1h', 'r1h_avg', 'r1q']] = dataset[['r1h', 'r1h_avg', 'r1q']].fillna(dataset[['r1h', 'r1h_avg', 'r1q']].median())\n",
    "dataset[['r3h', 'r3h_avg', 'r3q']] = dataset[['r3h', 'r3h_avg', 'r3q']].fillna(dataset[['r3h', 'r3h_avg', 'r3q']].median())"
   ]
  },
  {
   "cell_type": "code",
   "execution_count": 9,
   "id": "db1970f5",
   "metadata": {},
   "outputs": [
    {
     "name": "stdout",
     "output_type": "stream",
     "text": [
      "0          NaT\n",
      "1   1981-01-01\n",
      "2   1981-01-11\n",
      "3   1981-01-21\n",
      "4   1981-02-01\n",
      "Name: date, dtype: datetime64[ns]\n"
     ]
    }
   ],
   "source": [
    "dataset['date'] = pandas.to_datetime(dataset['date'], errors='coerce', format='%Y-%m-%d')\n",
    "print(dataset['date'].head())"
   ]
  },
  {
   "cell_type": "code",
   "execution_count": 10,
   "id": "9c9e5b7b",
   "metadata": {},
   "outputs": [
    {
     "name": "stdout",
     "output_type": "stream",
     "text": [
      "  date   adm2_id  ADM2_PCODE  n_pixels   rfh  rfh_avg      r1h  r1h_avg  \\\n",
      "0  NaT  #adm2+id  #adm2+code       3.0  23.0  32.8333  84.3333    99.85   \n",
      "\n",
      "     r3h  r3h_avg      rfq      r1q      r3q  version  \n",
      "0  273.0  299.725  81.7095  91.8176  95.3794  #status  \n",
      "date          0\n",
      "adm2_id       0\n",
      "ADM2_PCODE    0\n",
      "n_pixels      0\n",
      "rfh           0\n",
      "rfh_avg       0\n",
      "r1h           0\n",
      "r1h_avg       0\n",
      "r3h           0\n",
      "r3h_avg       0\n",
      "rfq           0\n",
      "r1q           0\n",
      "r3q           0\n",
      "version       0\n",
      "dtype: int64\n"
     ]
    }
   ],
   "source": [
    "print(dataset[dataset['date'].isna()])\n",
    "dataset.drop(index=0, inplace=True)\n",
    "print(dataset.isnull().sum())"
   ]
  },
  {
   "cell_type": "code",
   "execution_count": 11,
   "id": "674ee37e",
   "metadata": {},
   "outputs": [],
   "source": [
    "dataset = pandas.get_dummies(dataset, columns=['version'], drop_first=True)\n",
    "encoder = LabelEncoder()\n",
    "dataset['ADM2_PCODE'] = encoder.fit_transform(dataset['ADM2_PCODE'])"
   ]
  },
  {
   "cell_type": "code",
   "execution_count": 12,
   "id": "57bfa427",
   "metadata": {},
   "outputs": [
    {
     "name": "stdout",
     "output_type": "stream",
     "text": [
      "Number of outliers per column (Z-Score):\n",
      " n_pixels     6356\n",
      "rfh         10794\n",
      "rfh_avg      6032\n",
      "r1h          8561\n",
      "r1h_avg      5896\n",
      "r3h          6642\n",
      "r3h_avg      4794\n",
      "rfq          8076\n",
      "r1q          4598\n",
      "r3q          3268\n",
      "dtype: int64\n"
     ]
    }
   ],
   "source": [
    "z_score = dataset[numerical_columns].apply(zscore)\n",
    "outliers = (z_score.abs()>3)\n",
    "print(\"Number of outliers per column (Z-Score):\\n\", outliers.sum())"
   ]
  },
  {
   "cell_type": "code",
   "execution_count": 13,
   "id": "3aaaef52",
   "metadata": {},
   "outputs": [],
   "source": [
    "columns_to_transform = [\"rfh\", \"rfh_avg\", \"r1h\", \"r1h_avg\", \"r3h\", \"r3h_avg\", \"rfq\", \"r1q\", \"r3q\"]\n",
    "dataset[columns_to_transform] = dataset[columns_to_transform].apply(lambda x: numpy.log1p(x))"
   ]
  },
  {
   "cell_type": "code",
   "execution_count": 14,
   "id": "4985df22",
   "metadata": {},
   "outputs": [],
   "source": [
    "scaler = StandardScaler()\n",
    "dataset[numerical_columns] = scaler.fit_transform(dataset[numerical_columns])"
   ]
  },
  {
   "cell_type": "code",
   "execution_count": 15,
   "id": "3bfc9fe5",
   "metadata": {},
   "outputs": [],
   "source": [
    "dataset['year_month'] = dataset['date'].dt.to_period('M')"
   ]
  },
  {
   "cell_type": "code",
   "execution_count": 16,
   "id": "13ae95d8",
   "metadata": {},
   "outputs": [],
   "source": [
    "aggregated_data = dataset.groupby(['adm2_id', 'ADM2_PCODE', 'year_month']).agg({\n",
    "    'n_pixels': 'mean',\n",
    "    'rfh': 'mean',\n",
    "    'rfh_avg': 'mean',\n",
    "    'r1h': 'mean',\n",
    "    'r1h_avg': 'mean',\n",
    "    'r3h': 'mean',\n",
    "    'r3h_avg': 'mean',\n",
    "    'rfq': 'mean',\n",
    "    'r1q': 'mean',\n",
    "    'r3q': 'mean'\n",
    "}).reset_index()"
   ]
  },
  {
   "cell_type": "code",
   "execution_count": null,
   "id": "79c5b48e",
   "metadata": {},
   "outputs": [],
   "source": []
  },
  {
   "cell_type": "code",
   "execution_count": null,
   "id": "95621e99",
   "metadata": {},
   "outputs": [],
   "source": []
  }
 ],
 "metadata": {
  "kernelspec": {
   "display_name": "Python 3 (ipykernel)",
   "language": "python",
   "name": "python3"
  },
  "language_info": {
   "codemirror_mode": {
    "name": "ipython",
    "version": 3
   },
   "file_extension": ".py",
   "mimetype": "text/x-python",
   "name": "python",
   "nbconvert_exporter": "python",
   "pygments_lexer": "ipython3",
   "version": "3.11.5"
  }
 },
 "nbformat": 4,
 "nbformat_minor": 5
}
